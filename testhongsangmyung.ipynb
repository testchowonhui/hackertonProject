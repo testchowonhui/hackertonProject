{
  "nbformat": 4,
  "nbformat_minor": 0,
  "metadata": {
    "colab": {
      "provenance": []
    },
    "kernelspec": {
      "name": "python3",
      "display_name": "Python 3"
    },
    "language_info": {
      "name": "python"
    }
  },
  "cells": [
    {
      "cell_type": "code",
      "execution_count": 1,
      "metadata": {
        "id": "cW72FGay3CSl"
      },
      "outputs": [],
      "source": [
        "introduce=\"저는 홍상명입니다\""
      ]
    },
    {
      "cell_type": "code",
      "source": [
        "print(introduce)"
      ],
      "metadata": {
        "colab": {
          "base_uri": "https://localhost:8080/"
        },
        "id": "V4NRZACb3aAy",
        "outputId": "85ea75cc-7933-4dfa-c0dc-e66a6730f50c"
      },
      "execution_count": 2,
      "outputs": [
        {
          "output_type": "stream",
          "name": "stdout",
          "text": [
            "저는 홍상명입니다\n"
          ]
        }
      ]
    },
    {
      "cell_type": "code",
      "source": [],
      "metadata": {
        "id": "WT9Xziea3hfO"
      },
      "execution_count": null,
      "outputs": []
    }
  ]
}